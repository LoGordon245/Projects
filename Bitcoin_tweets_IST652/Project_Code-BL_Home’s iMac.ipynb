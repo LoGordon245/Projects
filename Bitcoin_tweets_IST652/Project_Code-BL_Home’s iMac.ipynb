{
 "cells": [
  {
   "cell_type": "code",
   "execution_count": 1,
   "id": "67a71e9f-5a81-4e01-b589-07e36ea8dd26",
   "metadata": {},
   "outputs": [],
   "source": [
    "import pandas as pd\n",
    "from datetime import *\n",
    "import nltk\n",
    "from nltk.sentiment.vader import SentimentIntensityAnalyzer\n",
    "from nltk.tokenize import TweetTokenizer\n",
    "from nltk.tokenize import sent_tokenize, word_tokenize\n",
    "from nltk.corpus import stopwords"
   ]
  },
  {
   "cell_type": "code",
   "execution_count": 39,
   "id": "37528cfa-5bd8-4124-ba06-279589a2cf87",
   "metadata": {},
   "outputs": [],
   "source": [
    "tweets = pd.read_csv('bitcoin_tweets.csv', low_memory=False)"
   ]
  },
  {
   "cell_type": "code",
   "execution_count": 43,
   "id": "7ee601ba-7fb1-468e-91aa-5f577611d15e",
   "metadata": {},
   "outputs": [],
   "source": [
    "price = pd.read_csv('BTC-USD.csv', low_memory=False)"
   ]
  },
  {
   "cell_type": "code",
   "execution_count": 3,
   "id": "d1023c5b-8476-4d65-870c-884251061e19",
   "metadata": {},
   "outputs": [],
   "source": [
    "#Convert date field to datetime, any non numerical value will be turned to NaN\n",
    "tweets['date']= pd.to_datetime(tweets['date'], errors = 'coerce')"
   ]
  },
  {
   "cell_type": "code",
   "execution_count": 4,
   "id": "50131f07-abab-49a8-a994-3731ce5821bb",
   "metadata": {},
   "outputs": [
    {
     "data": {
      "text/plain": [
       "0         2021-02-10 23:59:04\n",
       "1         2021-02-10 23:58:48\n",
       "2         2021-02-10 23:54:48\n",
       "3         2021-02-10 23:54:33\n",
       "4         2021-02-10 23:54:06\n",
       "                  ...        \n",
       "4132330   2022-09-02 19:18:51\n",
       "4132331   2022-09-02 19:18:26\n",
       "4132332   2022-09-02 19:18:16\n",
       "4132333   2022-09-02 19:18:04\n",
       "4132334   2022-09-02 19:17:48\n",
       "Name: date, Length: 4132335, dtype: datetime64[ns]"
      ]
     },
     "execution_count": 4,
     "metadata": {},
     "output_type": "execute_result"
    }
   ],
   "source": [
    "tweets['date']"
   ]
  },
  {
   "cell_type": "code",
   "execution_count": 5,
   "id": "50aecc01-fb96-4dea-8ff8-d90323f0cd59",
   "metadata": {},
   "outputs": [],
   "source": [
    "#Take index of  null rows in date field of  \n",
    "\n",
    "idx = tweets[tweets['date'].isnull()].index"
   ]
  },
  {
   "cell_type": "code",
   "execution_count": 6,
   "id": "ea0170c5-29b6-4f06-a695-2c2544e629f8",
   "metadata": {},
   "outputs": [],
   "source": [
    "#drop NA's in date and text field. \n",
    "tweets = tweets.drop(index=idx, axis=0)\n",
    "tweets = tweets.dropna(subset=['text']).reset_index(drop=True)"
   ]
  },
  {
   "cell_type": "code",
   "execution_count": 7,
   "id": "7405686a-7688-44e4-952c-0abae201973a",
   "metadata": {},
   "outputs": [],
   "source": [
    "#creating a new dataframe that does not contain the specified columns mentioned \n",
    "btcTweets = tweets.loc[:,['date', 'text', 'user_location','user_description', 'user_followers','user_friends','user_verified']]"
   ]
  },
  {
   "cell_type": "code",
   "execution_count": 59,
   "id": "483f34d7-1b74-450b-9e24-2965dcf93363",
   "metadata": {},
   "outputs": [],
   "source": [
    "#Creating a new 'year' column and converting the date column to y-m-d format\n",
    "btcTweets['year'] = btcTweets['date'].dt.year\n",
    "btcTweets['date'] = btcTweets['date'].dt.strftime('%Y-%m-%d')"
   ]
  },
  {
   "cell_type": "code",
   "execution_count": 9,
   "id": "fd5f7ddd-ce98-46db-8c94-b5a5eb79f082",
   "metadata": {},
   "outputs": [],
   "source": [
    "#Filtering dataframe for tweets that are from 2021\n",
    "btcTweets = btcTweets[btcTweets['year'] == 2021]"
   ]
  },
  {
   "cell_type": "code",
   "execution_count": 10,
   "id": "5586486d-6971-44b9-a254-a3a2d78cbe4a",
   "metadata": {},
   "outputs": [],
   "source": [
    "#pull a random sample of 5% into a new dataframe\n",
    "btcTweetsWork = btcTweets.sample(frac=0.05)"
   ]
  },
  {
   "cell_type": "code",
   "execution_count": 11,
   "id": "f7f4f233-b8b0-494a-9d6b-3f1cbfb1f989",
   "metadata": {},
   "outputs": [
    {
     "data": {
      "text/html": [
       "<div>\n",
       "<style scoped>\n",
       "    .dataframe tbody tr th:only-of-type {\n",
       "        vertical-align: middle;\n",
       "    }\n",
       "\n",
       "    .dataframe tbody tr th {\n",
       "        vertical-align: top;\n",
       "    }\n",
       "\n",
       "    .dataframe thead th {\n",
       "        text-align: right;\n",
       "    }\n",
       "</style>\n",
       "<table border=\"1\" class=\"dataframe\">\n",
       "  <thead>\n",
       "    <tr style=\"text-align: right;\">\n",
       "      <th></th>\n",
       "      <th>date</th>\n",
       "      <th>text</th>\n",
       "      <th>user_location</th>\n",
       "      <th>user_description</th>\n",
       "      <th>user_followers</th>\n",
       "      <th>user_friends</th>\n",
       "      <th>user_verified</th>\n",
       "      <th>year</th>\n",
       "    </tr>\n",
       "  </thead>\n",
       "  <tbody>\n",
       "    <tr>\n",
       "      <th>21519</th>\n",
       "      <td>2021-02-05 10:53:49</td>\n",
       "      <td>#Bitcoin and #ETH both have bullish setups for...</td>\n",
       "      <td>NaN</td>\n",
       "      <td>#Bitcoin #BTC</td>\n",
       "      <td>100.0</td>\n",
       "      <td>388</td>\n",
       "      <td>False</td>\n",
       "      <td>2021</td>\n",
       "    </tr>\n",
       "    <tr>\n",
       "      <th>21516</th>\n",
       "      <td>2021-02-05 10:58:03</td>\n",
       "      <td>@JulSwap $juld $bnb #Binance #BSC #BinanceSmar...</td>\n",
       "      <td>Australia</td>\n",
       "      <td>love interesting startups, stocks and innovati...</td>\n",
       "      <td>2520.0</td>\n",
       "      <td>1085</td>\n",
       "      <td>False</td>\n",
       "      <td>2021</td>\n",
       "    </tr>\n",
       "    <tr>\n",
       "      <th>21495</th>\n",
       "      <td>2021-02-05 11:11:19</td>\n",
       "      <td>🔄 Prices update in $USD (1 hour):\\n\\n$BTC - 37...</td>\n",
       "      <td>NaN</td>\n",
       "      <td>Scans Kraken's main currencies hourly | Also @...</td>\n",
       "      <td>3212.0</td>\n",
       "      <td>1</td>\n",
       "      <td>False</td>\n",
       "      <td>2021</td>\n",
       "    </tr>\n",
       "    <tr>\n",
       "      <th>21477</th>\n",
       "      <td>2021-02-05 11:24:21</td>\n",
       "      <td>https://t.co/XRKGaKgDCP\\n\\nMarketing – weekly ...</td>\n",
       "      <td>www.pool.creamcoin.com</td>\n",
       "      <td>CREAM\\nhttps://t.co/k9xpyyYqZs</td>\n",
       "      <td>9677.0</td>\n",
       "      <td>3266</td>\n",
       "      <td>False</td>\n",
       "      <td>2021</td>\n",
       "    </tr>\n",
       "    <tr>\n",
       "      <th>21475</th>\n",
       "      <td>2021-02-05 11:25:28</td>\n",
       "      <td>A Possible BIG MOVE FOR #BTC #BITCOIN is comin...</td>\n",
       "      <td>i am living in my cryptoworld</td>\n",
       "      <td>I am a cryptolover. living in my #cryptoworld😀...</td>\n",
       "      <td>741.0</td>\n",
       "      <td>1315</td>\n",
       "      <td>False</td>\n",
       "      <td>2021</td>\n",
       "    </tr>\n",
       "    <tr>\n",
       "      <th>...</th>\n",
       "      <td>...</td>\n",
       "      <td>...</td>\n",
       "      <td>...</td>\n",
       "      <td>...</td>\n",
       "      <td>...</td>\n",
       "      <td>...</td>\n",
       "      <td>...</td>\n",
       "      <td>...</td>\n",
       "    </tr>\n",
       "    <tr>\n",
       "      <th>1990398</th>\n",
       "      <td>2021-12-30 23:54:35</td>\n",
       "      <td>Join OKEx with this url below, get 20% commiss...</td>\n",
       "      <td>NaN</td>\n",
       "      <td>NaN</td>\n",
       "      <td>4.0</td>\n",
       "      <td>40.0</td>\n",
       "      <td>False</td>\n",
       "      <td>2021</td>\n",
       "    </tr>\n",
       "    <tr>\n",
       "      <th>1990392</th>\n",
       "      <td>2021-12-30 23:54:54</td>\n",
       "      <td>🔥🔥🔥 🐳🚨 Bitcoin Whale Alert: [ TX: 876279b44bea...</td>\n",
       "      <td>NaN</td>\n",
       "      <td>The most advanced #BTC bitcoin tracker and ana...</td>\n",
       "      <td>562.0</td>\n",
       "      <td>0.0</td>\n",
       "      <td>False</td>\n",
       "      <td>2021</td>\n",
       "    </tr>\n",
       "    <tr>\n",
       "      <th>1990379</th>\n",
       "      <td>2021-12-30 23:56:36</td>\n",
       "      <td>$BTC\\n#BTC update \\nhttps://t.co/3nAZtDJN4i ht...</td>\n",
       "      <td>NaN</td>\n",
       "      <td>-Cancer survivor -Covid19 survivor -US Momentu...</td>\n",
       "      <td>453.0</td>\n",
       "      <td>80.0</td>\n",
       "      <td>False</td>\n",
       "      <td>2021</td>\n",
       "    </tr>\n",
       "    <tr>\n",
       "      <th>1990377</th>\n",
       "      <td>2021-12-30 23:56:48</td>\n",
       "      <td>@jackmallers Today or tomorrow, #Litecoin will...</td>\n",
       "      <td>NaN</td>\n",
       "      <td>NaN</td>\n",
       "      <td>30.0</td>\n",
       "      <td>115.0</td>\n",
       "      <td>False</td>\n",
       "      <td>2021</td>\n",
       "    </tr>\n",
       "    <tr>\n",
       "      <th>1990368</th>\n",
       "      <td>2021-12-30 23:58:54</td>\n",
       "      <td>BITCOIN PRICE PREDICTION\\n\\nPRICE : RISE in 10...</td>\n",
       "      <td>NaN</td>\n",
       "      <td>I will tweet Bitcoin price predictions.\\nForec...</td>\n",
       "      <td>886.0</td>\n",
       "      <td>1350.0</td>\n",
       "      <td>False</td>\n",
       "      <td>2021</td>\n",
       "    </tr>\n",
       "  </tbody>\n",
       "</table>\n",
       "<p>99976 rows × 8 columns</p>\n",
       "</div>"
      ],
      "text/plain": [
       "                       date  \\\n",
       "21519   2021-02-05 10:53:49   \n",
       "21516   2021-02-05 10:58:03   \n",
       "21495   2021-02-05 11:11:19   \n",
       "21477   2021-02-05 11:24:21   \n",
       "21475   2021-02-05 11:25:28   \n",
       "...                     ...   \n",
       "1990398 2021-12-30 23:54:35   \n",
       "1990392 2021-12-30 23:54:54   \n",
       "1990379 2021-12-30 23:56:36   \n",
       "1990377 2021-12-30 23:56:48   \n",
       "1990368 2021-12-30 23:58:54   \n",
       "\n",
       "                                                      text  \\\n",
       "21519    #Bitcoin and #ETH both have bullish setups for...   \n",
       "21516    @JulSwap $juld $bnb #Binance #BSC #BinanceSmar...   \n",
       "21495    🔄 Prices update in $USD (1 hour):\\n\\n$BTC - 37...   \n",
       "21477    https://t.co/XRKGaKgDCP\\n\\nMarketing – weekly ...   \n",
       "21475    A Possible BIG MOVE FOR #BTC #BITCOIN is comin...   \n",
       "...                                                    ...   \n",
       "1990398  Join OKEx with this url below, get 20% commiss...   \n",
       "1990392  🔥🔥🔥 🐳🚨 Bitcoin Whale Alert: [ TX: 876279b44bea...   \n",
       "1990379  $BTC\\n#BTC update \\nhttps://t.co/3nAZtDJN4i ht...   \n",
       "1990377  @jackmallers Today or tomorrow, #Litecoin will...   \n",
       "1990368  BITCOIN PRICE PREDICTION\\n\\nPRICE : RISE in 10...   \n",
       "\n",
       "                         user_location  \\\n",
       "21519                              NaN   \n",
       "21516                        Australia   \n",
       "21495                              NaN   \n",
       "21477           www.pool.creamcoin.com   \n",
       "21475    i am living in my cryptoworld   \n",
       "...                                ...   \n",
       "1990398                            NaN   \n",
       "1990392                            NaN   \n",
       "1990379                            NaN   \n",
       "1990377                            NaN   \n",
       "1990368                            NaN   \n",
       "\n",
       "                                          user_description user_followers  \\\n",
       "21519                                        #Bitcoin #BTC          100.0   \n",
       "21516    love interesting startups, stocks and innovati...         2520.0   \n",
       "21495    Scans Kraken's main currencies hourly | Also @...         3212.0   \n",
       "21477                       CREAM\\nhttps://t.co/k9xpyyYqZs         9677.0   \n",
       "21475    I am a cryptolover. living in my #cryptoworld😀...          741.0   \n",
       "...                                                    ...            ...   \n",
       "1990398                                                NaN            4.0   \n",
       "1990392  The most advanced #BTC bitcoin tracker and ana...          562.0   \n",
       "1990379  -Cancer survivor -Covid19 survivor -US Momentu...          453.0   \n",
       "1990377                                                NaN           30.0   \n",
       "1990368  I will tweet Bitcoin price predictions.\\nForec...          886.0   \n",
       "\n",
       "        user_friends user_verified  year  \n",
       "21519            388         False  2021  \n",
       "21516           1085         False  2021  \n",
       "21495              1         False  2021  \n",
       "21477           3266         False  2021  \n",
       "21475           1315         False  2021  \n",
       "...              ...           ...   ...  \n",
       "1990398         40.0         False  2021  \n",
       "1990392          0.0         False  2021  \n",
       "1990379         80.0         False  2021  \n",
       "1990377        115.0         False  2021  \n",
       "1990368       1350.0         False  2021  \n",
       "\n",
       "[99976 rows x 8 columns]"
      ]
     },
     "execution_count": 11,
     "metadata": {},
     "output_type": "execute_result"
    }
   ],
   "source": [
    "#Sort the new dataframe by the date \n",
    "btcTweetsWork = btcTweetsWork.sort_values(by=['date'])\n",
    "btcTweetsWork"
   ]
  },
  {
   "cell_type": "code",
   "execution_count": 12,
   "id": "55a8b314-7123-467b-ab64-56cfa67a8283",
   "metadata": {},
   "outputs": [],
   "source": [
    "#reset the index of the new dataframe after the sort\n",
    "btcTweetsWork=btcTweetsWork.reset_index()"
   ]
  },
  {
   "cell_type": "code",
   "execution_count": 14,
   "id": "fe4e8f74-25c1-49d1-a927-ad7146e66a9b",
   "metadata": {},
   "outputs": [],
   "source": [
    "#take the text of each row and move them to a list called btcTwts\n",
    "btcTwts = btcTweetsWork['text'].tolist()"
   ]
  },
  {
   "cell_type": "code",
   "execution_count": null,
   "id": "ef59eb9e-8a97-4f38-bb99-b9fb10af5b0d",
   "metadata": {},
   "outputs": [],
   "source": [
    "#Run a sentiment analysis that takes the compound score of each text row and append to tweet rating\n",
    "TweetRating=[]\n",
    "sid = SentimentIntensityAnalyzer()\n",
    "for x in range(0, len(btcTwts)):\n",
    "    print(btcTwts)\n",
    "    ss = sid.polarity_scores(btcTwts[x])['compound']\n",
    "    TweetRating.append(ss)"
   ]
  },
  {
   "cell_type": "code",
   "execution_count": 17,
   "id": "5bc6969c-3ee3-4416-85d7-ba95855f6cf8",
   "metadata": {},
   "outputs": [],
   "source": [
    "#Take  the appended list of sentiment score and combine with the list of tweet text\n",
    "TweetScores = {\"tweets\":btcTwts, \"sentiment\": TweetRating}"
   ]
  },
  {
   "cell_type": "code",
   "execution_count": 23,
   "id": "c38ef237-bf36-4326-8c17-f7bf5c2e9027",
   "metadata": {},
   "outputs": [],
   "source": [
    "#Convert the dictionary of combined tweets and scores into a dataframe\n",
    "TweetScoresDf = pd.DataFrame(TweetScores)"
   ]
  },
  {
   "cell_type": "code",
   "execution_count": 26,
   "id": "cdb9ca1e-b255-40da-8c3e-7a5f299cb7ba",
   "metadata": {},
   "outputs": [],
   "source": [
    "#export to a csv file\n",
    "TweetScoresDf.to_csv(\"Sentiment_Score.csv\")"
   ]
  },
  {
   "cell_type": "code",
   "execution_count": 35,
   "id": "4040fa8e-a74e-4abf-847f-6e60a7350ce6",
   "metadata": {},
   "outputs": [],
   "source": [
    "#combine the tweet sentiment scores with the sampled dataframe and drop the repeated text column called 'tweets'\n",
    "FinalTweet= pd.concat([btcTweetsWork,TweetScoresDf],axis=1).reset_index(drop=True)\n",
    "FinalTweet = FinalTweet.drop(['tweets','index',],axis=1)\n",
    "\n"
   ]
  },
  {
   "cell_type": "code",
   "execution_count": 99,
   "id": "06625f99-db9c-4879-a758-99a277eec912",
   "metadata": {},
   "outputs": [],
   "source": [
    "#Export to csv\n",
    "FinalTweet.to_csv('TweetSentiment.csv')"
   ]
  },
  {
   "cell_type": "code",
   "execution_count": 44,
   "id": "f7f984e3-e2d1-46ab-ae97-489090241195",
   "metadata": {},
   "outputs": [],
   "source": [
    "#convert date field into datetime in price data \n",
    "price['Date'] = pd.to_datetime(price['Date'])"
   ]
  },
  {
   "cell_type": "code",
   "execution_count": null,
   "id": "d733961f-91ce-469a-95ac-b1b5ea79ef0d",
   "metadata": {},
   "outputs": [],
   "source": [
    "#create new columns Open to close and daily variation \n",
    "price['Open_to_Close'] = price['Close'] - price['Open']\n",
    "price['Daily_Variation'] = abs(price['High']-price['Low'])\n",
    "\n"
   ]
  },
  {
   "cell_type": "code",
   "execution_count": 68,
   "id": "633f9fe7-e2e7-4e97-b3d8-583f7d333a6c",
   "metadata": {},
   "outputs": [],
   "source": [
    "#Crete a new dataframe with specific columns and change the title of column date \n",
    "priceBTC= price.loc[:,['Date', 'High','Open_to_Close', 'Daily_Variation']]\n",
    "priceBTC = priceBTC.rename(columns={'Date':'date'})\n"
   ]
  },
  {
   "cell_type": "code",
   "execution_count": 88,
   "id": "3c83595b-4e5d-4561-94f5-8567520bccef",
   "metadata": {},
   "outputs": [],
   "source": [
    "#convert both date fields from tweet sentiment dataframe and price data then combine into one dataframe\n",
    "FinalTweet['date']= FinalTweet['date'].astype('datetime64[ns]')\n",
    "priceBTC['date']=priceBTC['date'].astype('datetime64[ns]')\n",
    "\n",
    "sentimentPrice = FinalTweet.merge(priceBTC, on='date')"
   ]
  },
  {
   "cell_type": "code",
   "execution_count": 93,
   "id": "c70b8216-4f57-49c4-b391-703dab907455",
   "metadata": {},
   "outputs": [],
   "source": [
    "#drop certain columns\n",
    "sentimentPrice= sentimentPrice.drop(['user_location','year','user_verified'], axis=1)"
   ]
  },
  {
   "cell_type": "code",
   "execution_count": 96,
   "id": "6ee54918-b09f-41d4-9090-19e8e0831255",
   "metadata": {},
   "outputs": [],
   "source": [
    "sentimentPrice.to_csv(\"sentiment_Price.csv\")"
   ]
  },
  {
   "cell_type": "code",
   "execution_count": null,
   "id": "1d85980d-b4c9-4de0-94f6-30e2a274eab1",
   "metadata": {},
   "outputs": [],
   "source": []
  },
  {
   "cell_type": "code",
   "execution_count": null,
   "id": "8cd354ac-6ae2-40cb-bcad-2c28b4504b82",
   "metadata": {},
   "outputs": [],
   "source": []
  }
 ],
 "metadata": {
  "kernelspec": {
   "display_name": "Python 3 (ipykernel)",
   "language": "python",
   "name": "python3"
  },
  "language_info": {
   "codemirror_mode": {
    "name": "ipython",
    "version": 3
   },
   "file_extension": ".py",
   "mimetype": "text/x-python",
   "name": "python",
   "nbconvert_exporter": "python",
   "pygments_lexer": "ipython3",
   "version": "3.9.12"
  }
 },
 "nbformat": 4,
 "nbformat_minor": 5
}
