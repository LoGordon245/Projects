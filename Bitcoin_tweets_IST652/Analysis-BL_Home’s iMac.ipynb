{
 "cells": [
  {
   "cell_type": "code",
   "execution_count": 1,
   "id": "7d3d2f6d-5d2f-48d2-8fad-ece90714539d",
   "metadata": {},
   "outputs": [],
   "source": [
    "import pandas as pd\n",
    "from datetime import *\n",
    "from matplotlib import pyplot as plt\n",
    "import numpy as np\n",
    "from matplotlib.pyplot import figure"
   ]
  },
  {
   "cell_type": "code",
   "execution_count": 2,
   "id": "81a3642c-e48e-44a2-a619-f3e893b29171",
   "metadata": {},
   "outputs": [],
   "source": [
    "TweetsSentiment= pd.read_csv('TweetSentiment.csv', low_memory=False)\n",
    "Sentiment_price=pd.read_csv('sentiment_price.csv', low_memory=False)\n"
   ]
  },
  {
   "cell_type": "code",
   "execution_count": 3,
   "id": "56e0e946-7caa-4cc5-b6d7-b40fd85d2cc4",
   "metadata": {},
   "outputs": [],
   "source": [
    "#Drop unnamed column, comnvert date fields into datetime\n",
    "TweetsSentiment= TweetsSentiment.drop(['Unnamed: 0',],axis=1)\n",
    "Sentiment_price= Sentiment_price.drop(['Unnamed: 0',],axis=1)\n",
    "TweetsSentiment['date']= pd.to_datetime(TweetsSentiment['date'])\n",
    "Sentiment_price['date']= pd.to_datetime(Sentiment_price['date'])"
   ]
  },
  {
   "cell_type": "code",
   "execution_count": 4,
   "id": "ec193a6c-b847-447b-a97f-f71191616aa3",
   "metadata": {},
   "outputs": [],
   "source": [
    "#creating a conditions and values that will need to be met for new column in datafame\n",
    "conditions = [\n",
    "    (Sentiment_price['Open_to_Close']>0),\n",
    "    (Sentiment_price['Open_to_Close']<0) ]\n",
    "values = ['Positive', 'negative']"
   ]
  },
  {
   "cell_type": "code",
   "execution_count": 5,
   "id": "32a08d4a-accd-4920-9382-4ae3c3a2dd91",
   "metadata": {
    "tags": []
   },
   "outputs": [],
   "source": [
    "#using the conditions an values from previous labels each row based on criteria specified in condition \n",
    "Sentiment_price['Price_movement'] = np.select(conditions, values)"
   ]
  },
  {
   "cell_type": "code",
   "execution_count": 6,
   "id": "dc7187a2-b5b8-4c0f-89fd-139a785e3e4c",
   "metadata": {},
   "outputs": [],
   "source": [
    "#like previous cells\n",
    "conditions1 = [\n",
    "    (TweetsSentiment['sentiment']>0),\n",
    "    (TweetsSentiment['sentiment']<0) ]\n",
    "values2 = ['Positive', 'negative']"
   ]
  },
  {
   "cell_type": "code",
   "execution_count": 7,
   "id": "be5de364-f215-4894-a1ab-80f03dbce3d7",
   "metadata": {},
   "outputs": [],
   "source": [
    "TweetsSentiment['Positive_negative_Sentiment'] = np.select(conditions1, values2)"
   ]
  },
  {
   "cell_type": "code",
   "execution_count": 8,
   "id": "4dcdc38a-c211-46e3-ae04-ed1c65f9dbad",
   "metadata": {},
   "outputs": [],
   "source": [
    "#Sort tweets based on sentiment \n",
    "SortedTweets = TweetsSentiment.sort_values(by=('sentiment'))"
   ]
  },
  {
   "cell_type": "code",
   "execution_count": 9,
   "id": "0a4d3431-9002-4147-8a7e-8fdf0c84b89b",
   "metadata": {},
   "outputs": [
    {
     "data": {
      "text/html": [
       "<div>\n",
       "<style scoped>\n",
       "    .dataframe tbody tr th:only-of-type {\n",
       "        vertical-align: middle;\n",
       "    }\n",
       "\n",
       "    .dataframe tbody tr th {\n",
       "        vertical-align: top;\n",
       "    }\n",
       "\n",
       "    .dataframe thead th {\n",
       "        text-align: right;\n",
       "    }\n",
       "</style>\n",
       "<table border=\"1\" class=\"dataframe\">\n",
       "  <thead>\n",
       "    <tr style=\"text-align: right;\">\n",
       "      <th></th>\n",
       "      <th>date</th>\n",
       "      <th>text</th>\n",
       "      <th>user_location</th>\n",
       "      <th>user_description</th>\n",
       "      <th>user_followers</th>\n",
       "      <th>user_friends</th>\n",
       "      <th>user_verified</th>\n",
       "      <th>year</th>\n",
       "      <th>sentiment</th>\n",
       "      <th>Positive_negative_Sentiment</th>\n",
       "    </tr>\n",
       "  </thead>\n",
       "  <tbody>\n",
       "    <tr>\n",
       "      <th>13026</th>\n",
       "      <td>2021-07-02</td>\n",
       "      <td>@PathFund @XTexchange This is a great and exce...</td>\n",
       "      <td>NaN</td>\n",
       "      <td>i am a student</td>\n",
       "      <td>12.0</td>\n",
       "      <td>613.0</td>\n",
       "      <td>False</td>\n",
       "      <td>2021</td>\n",
       "      <td>0.9895</td>\n",
       "      <td>Positive</td>\n",
       "    </tr>\n",
       "    <tr>\n",
       "      <th>13261</th>\n",
       "      <td>2021-07-02</td>\n",
       "      <td>@PathFund @XTexchange This is a great and exce...</td>\n",
       "      <td>NaN</td>\n",
       "      <td>NaN</td>\n",
       "      <td>20.0</td>\n",
       "      <td>408.0</td>\n",
       "      <td>False</td>\n",
       "      <td>2021</td>\n",
       "      <td>0.9895</td>\n",
       "      <td>Positive</td>\n",
       "    </tr>\n",
       "    <tr>\n",
       "      <th>48956</th>\n",
       "      <td>2021-08-18</td>\n",
       "      <td>@CornDeFi This is a great and excellent projec...</td>\n",
       "      <td>Rong pur</td>\n",
       "      <td>যারা আমাকে ফলো দিবে আমিও তাকে ফলো দিবো। প্লিজ ...</td>\n",
       "      <td>192.0</td>\n",
       "      <td>557.0</td>\n",
       "      <td>False</td>\n",
       "      <td>2021</td>\n",
       "      <td>0.9898</td>\n",
       "      <td>Positive</td>\n",
       "    </tr>\n",
       "    <tr>\n",
       "      <th>93776</th>\n",
       "      <td>2021-11-25</td>\n",
       "      <td>I’m thankful for everyone that follows me.  \\n...</td>\n",
       "      <td>Huntington Beach, CA</td>\n",
       "      <td>#Bitcoin I am one with love and abundance.  (I...</td>\n",
       "      <td>135.0</td>\n",
       "      <td>836.0</td>\n",
       "      <td>False</td>\n",
       "      <td>2021</td>\n",
       "      <td>0.9901</td>\n",
       "      <td>Positive</td>\n",
       "    </tr>\n",
       "    <tr>\n",
       "      <th>32850</th>\n",
       "      <td>2021-07-28</td>\n",
       "      <td>@News1Lead @cryptocom Wow great news! Congratu...</td>\n",
       "      <td>NaN</td>\n",
       "      <td>Butter!  OT7, forever!  💜💜💜</td>\n",
       "      <td>82.0</td>\n",
       "      <td>132.0</td>\n",
       "      <td>False</td>\n",
       "      <td>2021</td>\n",
       "      <td>0.9921</td>\n",
       "      <td>Positive</td>\n",
       "    </tr>\n",
       "  </tbody>\n",
       "</table>\n",
       "</div>"
      ],
      "text/plain": [
       "            date                                               text  \\\n",
       "13026 2021-07-02  @PathFund @XTexchange This is a great and exce...   \n",
       "13261 2021-07-02  @PathFund @XTexchange This is a great and exce...   \n",
       "48956 2021-08-18  @CornDeFi This is a great and excellent projec...   \n",
       "93776 2021-11-25  I’m thankful for everyone that follows me.  \\n...   \n",
       "32850 2021-07-28  @News1Lead @cryptocom Wow great news! Congratu...   \n",
       "\n",
       "              user_location  \\\n",
       "13026                   NaN   \n",
       "13261                   NaN   \n",
       "48956             Rong pur    \n",
       "93776  Huntington Beach, CA   \n",
       "32850                   NaN   \n",
       "\n",
       "                                        user_description  user_followers  \\\n",
       "13026                                     i am a student            12.0   \n",
       "13261                                                NaN            20.0   \n",
       "48956  যারা আমাকে ফলো দিবে আমিও তাকে ফলো দিবো। প্লিজ ...           192.0   \n",
       "93776  #Bitcoin I am one with love and abundance.  (I...           135.0   \n",
       "32850                        Butter!  OT7, forever!  💜💜💜            82.0   \n",
       "\n",
       "       user_friends  user_verified  year  sentiment  \\\n",
       "13026         613.0          False  2021     0.9895   \n",
       "13261         408.0          False  2021     0.9895   \n",
       "48956         557.0          False  2021     0.9898   \n",
       "93776         836.0          False  2021     0.9901   \n",
       "32850         132.0          False  2021     0.9921   \n",
       "\n",
       "      Positive_negative_Sentiment  \n",
       "13026                    Positive  \n",
       "13261                    Positive  \n",
       "48956                    Positive  \n",
       "93776                    Positive  \n",
       "32850                    Positive  "
      ]
     },
     "execution_count": 9,
     "metadata": {},
     "output_type": "execute_result"
    }
   ],
   "source": [
    "SortedTweets.tail()"
   ]
  },
  {
   "cell_type": "code",
   "execution_count": 10,
   "id": "3aa70a3d-8cfe-423d-b2e8-5d90f44ea762",
   "metadata": {},
   "outputs": [],
   "source": [
    "SortedTweets.to_csv('Sorted.csv')"
   ]
  },
  {
   "cell_type": "code",
   "execution_count": 11,
   "id": "081a31ac-e272-4aaa-8953-56c260be07cd",
   "metadata": {},
   "outputs": [],
   "source": [
    "#Average Sentiment by month \n",
    "SentimentByMonth=TweetsSentiment['sentiment'].groupby([TweetsSentiment['date'].dt.strftime(\"%m\")]).mean()"
   ]
  },
  {
   "cell_type": "code",
   "execution_count": 12,
   "id": "7b607aa3-9fab-42e9-8a06-5e04e09bbec4",
   "metadata": {},
   "outputs": [],
   "source": [
    "#bitcoin monthly high \n",
    "Month_high= Sentiment_price['High'].groupby([Sentiment_price['date'].dt.strftime(\"%m\")]).max()"
   ]
  },
  {
   "cell_type": "code",
   "execution_count": 13,
   "id": "fd4c1968-799e-4f79-8a00-9aab3593b003",
   "metadata": {},
   "outputs": [],
   "source": [
    "#number of Tweets by month \n",
    "TweetMonth = TweetsSentiment['text'].groupby([TweetsSentiment['date'].dt.strftime(\"%m\")]).count()\n"
   ]
  },
  {
   "cell_type": "code",
   "execution_count": 9,
   "id": "c3fb9523-f932-445f-aebb-5b01ed9d50fc",
   "metadata": {},
   "outputs": [
    {
     "data": {
      "image/png": "[encoded data removed]",
      "text/plain": [
       "<Figure size 432x288 with 1 Axes>"
      ]
     },
     "metadata": {
      "needs_background": "light"
     },
     "output_type": "display_data"
    }
   ],
   "source": [
    "#The average number of followers by Sentiment \n",
    "FollowerCountSentiment1= TweetsSentiment['user_followers'].groupby([TweetsSentiment['Positive_negative_Sentiment']]).mean()\n",
    "\n",
    "FollowerCountSentiment = FollowerCountSentiment1.plot.bar(stacked=False)\n",
    "FollowerCountSentiment.set_ylabel('# Followers')\n",
    "FollowerCountSentiment.set_title(\"Average Follower Amount by Sentiment\")\n",
    "\n",
    "plt.savefig(\"follower_account_sentiment.jpg\")\n"
   ]
  },
  {
   "cell_type": "code",
   "execution_count": 10,
   "id": "e4dcd04c-badc-4518-ad3f-cde3e16fcf42",
   "metadata": {},
   "outputs": [
    {
     "data": {
      "text/plain": [
       "Positive_negative_Sentiment\n",
       "0           11740.874260\n",
       "Positive     8345.798014\n",
       "negative     9007.977250\n",
       "Name: user_followers, dtype: float64"
      ]
     },
     "execution_count": 10,
     "metadata": {},
     "output_type": "execute_result"
    }
   ],
   "source": [
    "FollowerCountSentiment1"
   ]
  },
  {
   "cell_type": "code",
   "execution_count": 167,
   "id": "a0cd5960-2588-4491-9a14-9080216f8989",
   "metadata": {},
   "outputs": [
    {
     "data": {
      "image/png": "[encoded data removed]",
      "text/plain": [
       "<Figure size 432x288 with 1 Axes>"
      ]
     },
     "metadata": {
      "needs_background": "light"
     },
     "output_type": "display_data"
    }
   ],
   "source": [
    "#view verified user status and sentiment direction\n",
    "userStatus = TweetsSentiment['user_verified'].groupby([TweetsSentiment['Positive_negative_Sentiment'],TweetsSentiment['user_verified']]).count()\n",
    "labels = ['Neu,Nv', 'Neu,V', 'Pos,Nv', 'Pos,V', 'Neg,Nv', 'Neg,V']\n",
    "UserStatusChart = userStatus.plot.bar(stacked=False)\n",
    "UserStatusChart.set_ylabel('# Users')\n",
    "UserStatusChart.set_xticklabels(labels)\n",
    "UserStatusChart.set_xlabel('Verfied | direction')\n",
    "UserStatusChart.set_title(\"Verified Users by Sentiment Direction\")\n",
    "plt.savefig('verifiedSentiment.jpg')"
   ]
  },
  {
   "cell_type": "code",
   "execution_count": 163,
   "id": "c7f99e72-45f5-4cd4-8538-cae03b5fcf8b",
   "metadata": {},
   "outputs": [
    {
     "data": {
      "text/plain": [
       "Positive_negative_Sentiment  user_verified\n",
       "0                            False            34186\n",
       "                             True               282\n",
       "Positive                     False            52345\n",
       "                             True               416\n",
       "negative                     False            12614\n",
       "                             True               133\n",
       "Name: user_verified, dtype: int64"
      ]
     },
     "execution_count": 163,
     "metadata": {},
     "output_type": "execute_result"
    }
   ],
   "source": [
    "userStatus"
   ]
  },
  {
   "cell_type": "code",
   "execution_count": 14,
   "id": "e94e5194-9aca-412a-9831-c1fe85115798",
   "metadata": {},
   "outputs": [
    {
     "data": {
      "text/plain": [
       "Price_movement\n",
       "Positive    0.265349\n",
       "negative    0.250823\n",
       "Name: sentiment, dtype: float64"
      ]
     },
     "execution_count": 14,
     "metadata": {},
     "output_type": "execute_result"
    }
   ],
   "source": [
    "#average sentiment based on positve or negative days\n",
    "OpenCloseSentiment= Sentiment_price['sentiment'].groupby([Sentiment_price['Price_movement']]).mean()\n",
    "OpenCloseSentiment"
   ]
  },
  {
   "cell_type": "code",
   "execution_count": 15,
   "id": "69807922-fcba-4b02-9f58-e332a39a2c24",
   "metadata": {},
   "outputs": [
    {
     "data": {
      "text/plain": [
       "Price_movement\n",
       "Positive    1301.900318\n",
       "negative   -1845.069687\n",
       "Name: Open_to_Close, dtype: float64"
      ]
     },
     "execution_count": 15,
     "metadata": {},
     "output_type": "execute_result"
    }
   ],
   "source": [
    "#average decrease in price on days where we close lower than opening \n",
    "PriceOpenClose= Sentiment_price['Open_to_Close'].groupby([Sentiment_price['Price_movement']]).mean()\n",
    "PriceOpenClose"
   ]
  },
  {
   "cell_type": "code",
   "execution_count": 130,
   "id": "ecc26654-1f2b-46b1-9a4d-6fbb60be02d0",
   "metadata": {},
   "outputs": [
    {
     "name": "stdout",
     "output_type": "stream",
     "text": [
      "AxesSubplot(0.125,0.125;0.775x0.755)\n"
     ]
    },
    {
     "data": {
      "image/png": "[encoded data removed]",
      "text/plain": [
       "<Figure size 432x288 with 1 Axes>"
      ]
     },
     "metadata": {
      "needs_background": "light"
     },
     "output_type": "display_data"
    }
   ],
   "source": [
    "Monthplot = TweetMonth.plot.bar(stacked=False)\n",
    "labels = ['Feb', 'Mar', 'Apr', 'May', 'Jun', 'Jul','Aug','Sep','Oct', 'Nov', 'Dec']\n",
    "Monthplot.set_ylabel('# of Tweets')\n",
    "Monthplot.set_xlabel('Month')\n",
    "Monthplot.set_title(\"Tweets by Month\")\n",
    "\n",
    "Monthplot.set_xticklabels(labels)\n",
    "\n",
    "print(Monthplot)\n",
    "plt.savefig('MonthPlot.jpg')"
   ]
  },
  {
   "cell_type": "code",
   "execution_count": null,
   "id": "b26ae6d8-9cf6-4f26-90aa-caf9d45e934b",
   "metadata": {},
   "outputs": [
    {
     "data": {
      "text/plain": [
       "date\n",
       "02     2274\n",
       "03      212\n",
       "04     2949\n",
       "05     1085\n",
       "06     6174\n",
       "07    23340\n",
       "08    24493\n",
       "09     1186\n",
       "10    17559\n",
       "11    17952\n",
       "12     2752\n",
       "Name: text, dtype: int64"
      ]
     },
     "execution_count": 16,
     "metadata": {},
     "output_type": "execute_result"
    }
   ],
   "source": [
    "TweetMonth "
   ]
  },
  {
   "cell_type": "code",
   "execution_count": 147,
   "id": "15ca1eb8-7943-408e-8329-a7c6c124e7ac",
   "metadata": {},
   "outputs": [
    {
     "name": "stdout",
     "output_type": "stream",
     "text": [
      "AxesSubplot(0.125,0.125;0.775x0.755)\n"
     ]
    },
    {
     "data": {
      "image/png": "[encoded data removed]",
      "text/plain": [
       "<Figure size 432x288 with 1 Axes>"
      ]
     },
     "metadata": {
      "needs_background": "light"
     },
     "output_type": "display_data"
    }
   ],
   "source": [
    "SentimentPlot = SentimentByMonth.plot.bar(stacked=False)\n",
    "labels = ['Feb', 'Mar', 'Apr', 'May', 'Jun', 'Jul','Aug','Sep','Oct', 'Nov', 'Dec']\n",
    "SentimentPlot.set_ylabel('Sentiment')\n",
    "SentimentPlot.set_xlabel('Month')\n",
    "SentimentPlot.set_title(\"Senitment Score\")\n",
    "\n",
    "SentimentPlot.set_xticklabels(labels)\n",
    "\n",
    "print(SentimentPlot)\n",
    "plt.savefig('SentimentbyMonth.jpg')"
   ]
  },
  {
   "cell_type": "code",
   "execution_count": null,
   "id": "0b5360cb-3fd4-406d-acd0-943631d16832",
   "metadata": {},
   "outputs": [
    {
     "data": {
      "text/plain": [
       "date\n",
       "02    0.173669\n",
       "03    0.114711\n",
       "04    0.147406\n",
       "05    0.140149\n",
       "06    0.181208\n",
       "07    0.258503\n",
       "08    0.297962\n",
       "09    0.251943\n",
       "10    0.269668\n",
       "11    0.266094\n",
       "12    0.240497\n",
       "Name: sentiment, dtype: float64"
      ]
     },
     "execution_count": 92,
     "metadata": {},
     "output_type": "execute_result"
    }
   ],
   "source": [
    "SentimentByMonth"
   ]
  },
  {
   "cell_type": "code",
   "execution_count": 171,
   "id": "d12f169f-8c57-4843-a3a9-84642ca7805c",
   "metadata": {},
   "outputs": [
    {
     "data": {
      "image/png": "[encoded data removed]",
      "text/plain": [
       "<Figure size 800x1200 with 1 Axes>"
      ]
     },
     "metadata": {
      "needs_background": "light"
     },
     "output_type": "display_data"
    }
   ],
   "source": [
    "figure(figsize=(10, 15), dpi=80)\n",
    "plt.plot(Month_high)\n",
    "plt.ylabel('Price')\n",
    "plt.xlabel('Month')\n",
    "plt.title(\"Bitcoin Price Highs by Month\")\n",
    "plt.savefig(\"Price_by_Month\")\n"
   ]
  },
  {
   "cell_type": "code",
   "execution_count": 72,
   "id": "c13c05cc-e1e4-4339-bf3a-4da935f044e1",
   "metadata": {},
   "outputs": [
    {
     "data": {
      "text/plain": [
       "date\n",
       "02    57533.390625\n",
       "03    58091.062500\n",
       "04    62572.175781\n",
       "05    40782.078125\n",
       "06    36059.484375\n",
       "07    42235.546875\n",
       "08    50482.078125\n",
       "09    47031.742188\n",
       "10    66930.390625\n",
       "11    65579.015625\n",
       "12    49458.210938\n",
       "Name: High, dtype: float64"
      ]
     },
     "execution_count": 72,
     "metadata": {},
     "output_type": "execute_result"
    }
   ],
   "source": [
    "Month_high"
   ]
  },
  {
   "cell_type": "code",
   "execution_count": null,
   "id": "93c6d0c7-6d1a-434d-b1aa-99ac1d72e839",
   "metadata": {},
   "outputs": [],
   "source": []
  }
 ],
 "metadata": {
  "kernelspec": {
   "display_name": "Python 3 (ipykernel)",
   "language": "python",
   "name": "python3"
  },
  "language_info": {
   "codemirror_mode": {
    "name": "ipython",
    "version": 3
   },
   "file_extension": ".py",
   "mimetype": "text/x-python",
   "name": "python",
   "nbconvert_exporter": "python",
   "pygments_lexer": "ipython3",
   "version": "3.9.12"
  }
 },
 "nbformat": 4,
 "nbformat_minor": 5
}
